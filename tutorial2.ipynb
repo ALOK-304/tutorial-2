{
 "cells": [
  {
   "cell_type": "code",
   "execution_count": 61,
   "id": "90eaccfc-b488-4eda-82b7-1c2672edc027",
   "metadata": {},
   "outputs": [
    {
     "name": "stdout",
     "output_type": "stream",
     "text": [
      "[[[[[5 7 8 8]\n",
      "    [2 5 4 5]\n",
      "    [1 4 5 6]\n",
      "    [1 7 8 9]]]]\n",
      "\n",
      "\n",
      "\n",
      " [[[[9 5 6 4]\n",
      "    [2 3 5 6]\n",
      "    [1 2 3 4]\n",
      "    [5 6 8 9]]]]\n",
      "\n",
      "\n",
      "\n",
      " [[[[5 7 8 8]\n",
      "    [2 5 4 5]\n",
      "    [1 4 5 6]\n",
      "    [1 7 8 9]]]]\n",
      "\n",
      "\n",
      "\n",
      " [[[[9 5 6 4]\n",
      "    [2 3 5 6]\n",
      "    [1 2 3 4]\n",
      "    [2 9 7 8]]]]\n",
      "\n",
      "\n",
      "\n",
      " [[[[9 5 6 4]\n",
      "    [2 3 5 6]\n",
      "    [1 2 3 4]\n",
      "    [2 9 7 8]]]]]\n"
     ]
    }
   ],
   "source": [
    "#create a 5d array and find indexing\n",
    "import numpy as np \n",
    "a = np.array ([[[[[5,7,8,8],[2,5,4,5],[1,4,5,6],[1,7,8,9]]]],[[[[9,5,6,4],[2,3,5,6],[1,2,3,4],[5,6,8,9]]]],[[[[5,7,8,8],[2,5,4,5],[1,4,5,6],[1,7,8,9]]]],[[[[9,5,6,4],[2,3,5,6],[1,2,3,4],[2,9,7,8]]]],[[[[9,5,6,4],[2,3,5,6],[1,2,3,4],[2,9,7,8]]]]])\n",
    "print(a)\n"
   ]
  },
  {
   "cell_type": "code",
   "execution_count": 57,
   "id": "d96c6591-9108-4560-969f-c461830df795",
   "metadata": {},
   "outputs": [
    {
     "name": "stdout",
     "output_type": "stream",
     "text": [
      "[[1 2 3]\n",
      " [9 4 6]\n",
      " [8 9 5]]\n"
     ]
    }
   ],
   "source": [
    "import numpy as np \n",
    "a = np.array ([[1,2,3],[9,4,6],[8,9,5]])\n",
    "print (a)\n"
   ]
  },
  {
   "cell_type": "code",
   "execution_count": 19,
   "id": "fd698592-e804-41f1-9c01-26b5879f6cd1",
   "metadata": {},
   "outputs": [
    {
     "data": {
      "text/plain": [
       "(3, 3)"
      ]
     },
     "execution_count": 19,
     "metadata": {},
     "output_type": "execute_result"
    }
   ],
   "source": [
    "a.shape"
   ]
  },
  {
   "cell_type": "code",
   "execution_count": 21,
   "id": "71510732-602a-4983-95ae-20b37c68e361",
   "metadata": {},
   "outputs": [
    {
     "data": {
      "text/plain": [
       "(24, 8)"
      ]
     },
     "execution_count": 21,
     "metadata": {},
     "output_type": "execute_result"
    }
   ],
   "source": [
    "a.strides"
   ]
  },
  {
   "cell_type": "code",
   "execution_count": 23,
   "id": "b7216c34-40c9-4bb5-af8a-c387b82afa91",
   "metadata": {},
   "outputs": [
    {
     "data": {
      "text/plain": [
       "2"
      ]
     },
     "execution_count": 23,
     "metadata": {},
     "output_type": "execute_result"
    }
   ],
   "source": [
    "a.ndim"
   ]
  },
  {
   "cell_type": "code",
   "execution_count": 25,
   "id": "214a1115-a21a-45d4-9b8b-9e72734792a8",
   "metadata": {},
   "outputs": [
    {
     "data": {
      "text/plain": [
       "<memory at 0x122e2ef60>"
      ]
     },
     "execution_count": 25,
     "metadata": {},
     "output_type": "execute_result"
    }
   ],
   "source": [
    "a.data"
   ]
  },
  {
   "cell_type": "code",
   "execution_count": 27,
   "id": "4f3372c0-46e1-4e87-bf4d-01e615e7a659",
   "metadata": {},
   "outputs": [
    {
     "data": {
      "text/plain": [
       "9"
      ]
     },
     "execution_count": 27,
     "metadata": {},
     "output_type": "execute_result"
    }
   ],
   "source": [
    "a.size"
   ]
  },
  {
   "cell_type": "code",
   "execution_count": 29,
   "id": "34185c4b-c473-45be-8f6d-526f90167df4",
   "metadata": {},
   "outputs": [
    {
     "data": {
      "text/plain": [
       "8"
      ]
     },
     "execution_count": 29,
     "metadata": {},
     "output_type": "execute_result"
    }
   ],
   "source": [
    "a.itemsize"
   ]
  },
  {
   "cell_type": "code",
   "execution_count": 47,
   "id": "5492f844-8461-4e67-9ea4-33a26d78ffd5",
   "metadata": {},
   "outputs": [],
   "source": [
    "a.base"
   ]
  },
  {
   "cell_type": "code",
   "execution_count": 49,
   "id": "e7c33b44-5f35-4cae-8328-4e002ad75318",
   "metadata": {},
   "outputs": [
    {
     "data": {
      "text/plain": [
       "72"
      ]
     },
     "execution_count": 49,
     "metadata": {},
     "output_type": "execute_result"
    }
   ],
   "source": [
    "a.nbytes"
   ]
  },
  {
   "cell_type": "code",
   "execution_count": 51,
   "id": "35d9d7c2-3e5b-4254-bb0d-59cb83fb892b",
   "metadata": {},
   "outputs": [
    {
     "data": {
      "text/plain": [
       "array([[1, 9, 8],\n",
       "       [2, 4, 9],\n",
       "       [3, 6, 5]])"
      ]
     },
     "execution_count": 51,
     "metadata": {},
     "output_type": "execute_result"
    }
   ],
   "source": [
    "a.T"
   ]
  },
  {
   "cell_type": "code",
   "execution_count": 53,
   "id": "22582cd8-e411-463a-9dce-ef214b05aabc",
   "metadata": {},
   "outputs": [
    {
     "data": {
      "text/plain": [
       "array([[1, 2, 3],\n",
       "       [9, 4, 6],\n",
       "       [8, 9, 5]])"
      ]
     },
     "execution_count": 53,
     "metadata": {},
     "output_type": "execute_result"
    }
   ],
   "source": [
    "a.real"
   ]
  },
  {
   "cell_type": "code",
   "execution_count": 55,
   "id": "ee0c4cea-3e9a-49bd-90ec-a5a60b7d0cea",
   "metadata": {},
   "outputs": [
    {
     "data": {
      "text/plain": [
       "array([[0, 0, 0],\n",
       "       [0, 0, 0],\n",
       "       [0, 0, 0]])"
      ]
     },
     "execution_count": 55,
     "metadata": {},
     "output_type": "execute_result"
    }
   ],
   "source": [
    "a.imag"
   ]
  },
  {
   "cell_type": "code",
   "execution_count": null,
   "id": "06e9f9ba-fe79-4921-a9d7-3492743e5f8a",
   "metadata": {},
   "outputs": [],
   "source": []
  }
 ],
 "metadata": {
  "kernelspec": {
   "display_name": "Python 3 (ipykernel)",
   "language": "python",
   "name": "python3"
  },
  "language_info": {
   "codemirror_mode": {
    "name": "ipython",
    "version": 3
   },
   "file_extension": ".py",
   "mimetype": "text/x-python",
   "name": "python",
   "nbconvert_exporter": "python",
   "pygments_lexer": "ipython3",
   "version": "3.12.4"
  }
 },
 "nbformat": 4,
 "nbformat_minor": 5
}
